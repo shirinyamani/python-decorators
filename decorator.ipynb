{
 "cells": [
  {
   "cell_type": "code",
   "execution_count": 4,
   "metadata": {},
   "outputs": [],
   "source": [
    "import functools"
   ]
  },
  {
   "cell_type": "code",
   "execution_count": 42,
   "metadata": {},
   "outputs": [
    {
     "name": "stdout",
     "output_type": "stream",
     "text": [
      "hi shirin!\n",
      "hi shirin!\n",
      "hi shirin!\n"
     ]
    }
   ],
   "source": [
    "def repeat(_func=None, *, num_repeat=2):  \n",
    "    def decorator(func):                    \n",
    "        @functools.wraps(func)\n",
    "        def wrapper(*args, **kwargs):\n",
    "            for _ in range(num_repeat):  \n",
    "                 output = func(*args,** kwargs)\n",
    "            return output\n",
    "        return wrapper                                                                 \n",
    "    if _func is None:\n",
    "        return decorator #means thar there are more inputs than _func\n",
    "    else:\n",
    "        return decorator(_func) #means we wanna get the wrapper!\n",
    "                                                                                \n",
    "@repeat(num_repeat=3) #optional argument!\n",
    "def greet(name):\n",
    "    print(f'hi {name}!')\n",
    "    \n",
    "greet('shirin')"
   ]
  },
  {
   "cell_type": "code",
   "execution_count": 31,
   "metadata": {},
   "outputs": [],
   "source": [
    "#Situation 1:\n",
    "@repeat #without argument!\n",
    "def greet(name):\n",
    "    print(f'hi {name}!')\n",
    "    \n",
    "greet = repeat(greet) #_func = greet \n",
    "\n",
    "greet = repeat(_func=None, num_repeat=3)(greet) #_func = None"
   ]
  },
  {
   "cell_type": "code",
   "execution_count": null,
   "metadata": {},
   "outputs": [],
   "source": [
    "#Situation 2:\n",
    "@repeat(num_repeat=3) #optional argument!\n",
    "def greet(name):\n",
    "    print(f'hi {name}!')"
   ]
  },
  {
   "cell_type": "code",
   "execution_count": 32,
   "metadata": {},
   "outputs": [
    {
     "name": "stdout",
     "output_type": "stream",
     "text": [
      "hi shirin!\n",
      "hi shirin!\n"
     ]
    }
   ],
   "source": [
    "greet('shirin')"
   ]
  },
  {
   "cell_type": "code",
   "execution_count": null,
   "metadata": {},
   "outputs": [],
   "source": []
  },
  {
   "cell_type": "code",
   "execution_count": 33,
   "metadata": {},
   "outputs": [
    {
     "data": {
      "text/plain": [
       "<function __main__.greet(name)>"
      ]
     },
     "execution_count": 33,
     "metadata": {},
     "output_type": "execute_result"
    }
   ],
   "source": [
    "greet"
   ]
  },
  {
   "cell_type": "code",
   "execution_count": 43,
   "metadata": {},
   "outputs": [],
   "source": [
    "def repeat(func):\n",
    "    @functools.wraps(func)\n",
    "    def wrapper(*args, **kwargs):\n",
    "        func(*args, **kwargs)\n",
    "        output = func(*args, **kwargs)\n",
    "        return output\n",
    "    return wrapper                                                               "
   ]
  },
  {
   "cell_type": "code",
   "execution_count": 44,
   "metadata": {},
   "outputs": [],
   "source": [
    "@repeat\n",
    "def greet(name):\n",
    "    print(f'hi {name}!')                                                           "
   ]
  },
  {
   "cell_type": "code",
   "execution_count": 45,
   "metadata": {},
   "outputs": [
    {
     "name": "stdout",
     "output_type": "stream",
     "text": [
      "hi shirin!\n",
      "hi shirin!\n"
     ]
    }
   ],
   "source": [
    "greet('shirin')"
   ]
  },
  {
   "cell_type": "code",
   "execution_count": null,
   "metadata": {},
   "outputs": [],
   "source": []
  }
 ],
 "metadata": {
  "kernelspec": {
   "display_name": "Python 3",
   "language": "python",
   "name": "python3"
  },
  "language_info": {
   "codemirror_mode": {
    "name": "ipython",
    "version": 3
   },
   "file_extension": ".py",
   "mimetype": "text/x-python",
   "name": "python",
   "nbconvert_exporter": "python",
   "pygments_lexer": "ipython3",
   "version": "3.7.6"
  }
 },
 "nbformat": 4,
 "nbformat_minor": 4
}
