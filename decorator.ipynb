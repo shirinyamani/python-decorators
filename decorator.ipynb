{
 "cells": [
  {
   "cell_type": "code",
   "execution_count": 1,
   "metadata": {},
   "outputs": [],
   "source": [
    "import functools"
   ]
  },
  {
   "cell_type": "code",
   "execution_count": 13,
   "metadata": {},
   "outputs": [],
   "source": [
    "def repeat(_func=None, *, num_repeat=2):  \n",
    "    def decorator(func):                    \n",
    "        @functools.wraps(func)\n",
    "        def wrapper(*args, **kwargs):\n",
    "            for _ in range(num_repeat):  \n",
    "                 output = func(*args,** kwargs)\n",
    "            return output\n",
    "        return wrapper                                                                 \n",
    "    if _func is None:\n",
    "        return decorator #means there are more inputs than _func!\n",
    "    else:\n",
    "        return decorator(_func) #means we wanna get the wrapper!"
   ]
  },
  {
   "cell_type": "code",
   "execution_count": 18,
   "metadata": {},
   "outputs": [],
   "source": [
    "#Situation 1: without argument in front of @repeat but still want the output repeated twice!\n",
    "@repeat \n",
    "def greet(name): \n",
    "    print(f'hi {name}!')   #output: hi shirin , hi shirin\n",
    "#----------------------------------------------------------------------------------------------\n",
    "#Situation 2: optional argument (num_repeated=3); output gotta repeated 3 times!\n",
    "@repeat(num_repeat=3) \n",
    "def greet(name):                                                                                    \n",
    "    print(f'hi {name}!')  #output: hi shirin, hi shirin, hi shirin"
   ]
  },
  {
   "cell_type": "code",
   "execution_count": 19,
   "metadata": {},
   "outputs": [
    {
     "name": "stdout",
     "output_type": "stream",
     "text": [
      "hi shirin!\n",
      "hi shirin!\n",
      "hi shirin!\n"
     ]
    }
   ],
   "source": [
    "greet('shirin')"
   ]
  },
  {
   "cell_type": "code",
   "execution_count": null,
   "metadata": {},
   "outputs": [],
   "source": []
  },
  {
   "cell_type": "code",
   "execution_count": 33,
   "metadata": {},
   "outputs": [
    {
     "data": {
      "text/plain": [
       "<function __main__.greet(name)>"
      ]
     },
     "execution_count": 33,
     "metadata": {},
     "output_type": "execute_result"
    }
   ],
   "source": [
    "greet"
   ]
  },
  {
   "cell_type": "code",
   "execution_count": 54,
   "metadata": {},
   "outputs": [],
   "source": [
    "def my_decorator(func):\n",
    "    @functools.wraps(func)\n",
    "    def wrapper(*args, **kwargs):\n",
    "        output = func(*args, **kwargs)                      \n",
    "        return output\n",
    "    return wrapper                                                               "
   ]
  },
  {
   "cell_type": "code",
   "execution_count": 55,
   "metadata": {},
   "outputs": [],
   "source": [
    "#Approach 1: Using Syntactic Suger @\n",
    "@my_decorator\n",
    "def greet(name):\n",
    "    print(f'hi {name}!')                                                           "
   ]
  },
  {
   "cell_type": "code",
   "execution_count": 47,
   "metadata": {},
   "outputs": [
    {
     "name": "stdout",
     "output_type": "stream",
     "text": [
      "hi Shirin!\n"
     ]
    }
   ],
   "source": [
    "greet('Shirin')"
   ]
  },
  {
   "cell_type": "code",
   "execution_count": 51,
   "metadata": {},
   "outputs": [],
   "source": [
    "#Approach 2: Using definition of Decorator!\n",
    "greet = my_decorator(greet)"
   ]
  },
  {
   "cell_type": "code",
   "execution_count": 52,
   "metadata": {},
   "outputs": [
    {
     "name": "stdout",
     "output_type": "stream",
     "text": [
      "hi Alex!\n"
     ]
    }
   ],
   "source": [
    "greet('Alex')"
   ]
  },
  {
   "cell_type": "code",
   "execution_count": 56,
   "metadata": {},
   "outputs": [
    {
     "data": {
      "text/plain": [
       "<function __main__.greet(name)>"
      ]
     },
     "execution_count": 56,
     "metadata": {},
     "output_type": "execute_result"
    }
   ],
   "source": [
    "greet"
   ]
  },
  {
   "cell_type": "code",
   "execution_count": 8,
   "metadata": {},
   "outputs": [],
   "source": [
    "def repeat(num_repeat): #enclosing for decorator\n",
    "    def decorator(func): #main decorator\n",
    "        @functools.wraps(func)\n",
    "        def wrapper(*args,**kwargs):#wraps our function\n",
    "            for _ in range(num_repeat):\n",
    "                output = func(*args,**kwargs)\n",
    "            return output\n",
    "        return wrapper\n",
    "    return decorator"
   ]
  },
  {
   "cell_type": "code",
   "execution_count": 9,
   "metadata": {},
   "outputs": [],
   "source": [
    "@repeat(num_repeat=3)\n",
    "def greet(name):\n",
    "    print(f'hi {name}!')"
   ]
  },
  {
   "cell_type": "code",
   "execution_count": 10,
   "metadata": {},
   "outputs": [
    {
     "name": "stdout",
     "output_type": "stream",
     "text": [
      "hi shirin!\n",
      "hi shirin!\n",
      "hi shirin!\n"
     ]
    }
   ],
   "source": [
    "greet(\"shirin\")"
   ]
  },
  {
   "cell_type": "code",
   "execution_count": 20,
   "metadata": {},
   "outputs": [],
   "source": [
    "greet = repeat(greet) #_func = greet"
   ]
  },
  {
   "cell_type": "code",
   "execution_count": 21,
   "metadata": {},
   "outputs": [],
   "source": [
    "greet = repeat (_func= None, num_repeat=3)(greet) #_func = None"
   ]
  },
  {
   "cell_type": "code",
   "execution_count": 34,
   "metadata": {},
   "outputs": [],
   "source": [
    "def repeat(func):\n",
    "    @functools.wraps(func)\n",
    "    def wrapper(*args, **kwargs):\n",
    "        func(*args, **kwargs)\n",
    "        output = func(*args, **kwargs)\n",
    "        return output\n",
    "    return wrapper"
   ]
  },
  {
   "cell_type": "code",
   "execution_count": 35,
   "metadata": {},
   "outputs": [],
   "source": [
    "@repeat\n",
    "def greet(name):\n",
    "    print(f'hi {name}!')"
   ]
  },
  {
   "cell_type": "code",
   "execution_count": 36,
   "metadata": {},
   "outputs": [
    {
     "name": "stdout",
     "output_type": "stream",
     "text": [
      "hi shirin!\n",
      "hi shirin!\n"
     ]
    }
   ],
   "source": [
    "greet('shirin')"
   ]
  },
  {
   "cell_type": "code",
   "execution_count": null,
   "metadata": {},
   "outputs": [],
   "source": []
  }
 ],
 "metadata": {
  "kernelspec": {
   "display_name": "Python 3",
   "language": "python",
   "name": "python3"
  },
  "language_info": {
   "codemirror_mode": {
    "name": "ipython",
    "version": 3
   },
   "file_extension": ".py",
   "mimetype": "text/x-python",
   "name": "python",
   "nbconvert_exporter": "python",
   "pygments_lexer": "ipython3",
   "version": "3.7.6"
  }
 },
 "nbformat": 4,
 "nbformat_minor": 4
}
